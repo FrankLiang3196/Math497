{
  "nbformat": 4,
  "nbformat_minor": 0,
  "metadata": {
    "colab": {
      "name": "Programming_Assignment_3.ipynb",
      "provenance": [],
      "collapsed_sections": [
        "A8btbBuFz3j_",
        "8tnDF8N5z3j_",
        "6NGxntKLz3kO",
        "t8Op_NP5z3kf",
        "eY74kXCSz3kg",
        "PsX9sU1Nz3kh",
        "tt6oay6Rz3kk",
        "kTHHlHSbz3kn",
        "O-OyyHliz3ko",
        "cL_XkTgmz3k1",
        "QFdILTiHz3k1",
        "XmhEkm0nz3k2",
        "bn4Pbjwgz3k4",
        "MJn6VYpQz3k8",
        "JOcri38sz3k8"
      ],
      "include_colab_link": true
    },
    "kernelspec": {
      "display_name": "Python 3",
      "language": "python",
      "name": "python3"
    },
    "language_info": {
      "codemirror_mode": {
        "name": "ipython",
        "version": 3
      },
      "file_extension": ".py",
      "mimetype": "text/x-python",
      "name": "python",
      "nbconvert_exporter": "python",
      "pygments_lexer": "ipython3",
      "version": "3.7.3"
    }
  },
  "cells": [
    {
      "cell_type": "markdown",
      "metadata": {
        "id": "view-in-github",
        "colab_type": "text"
      },
      "source": [
        "<a href=\"https://colab.research.google.com/github/FrankLiang3196/Math497/blob/master/Programming_Assignment_3.ipynb\" target=\"_parent\"><img src=\"https://colab.research.google.com/assets/colab-badge.svg\" alt=\"Open In Colab\"/></a>"
      ]
    },
    {
      "cell_type": "markdown",
      "metadata": {
        "id": "Yb-mL7hyRysb",
        "colab_type": "text"
      },
      "source": [
        "# Week 3 Programming Assignment \n",
        "\n",
        "Remark: \n",
        "\n",
        "Please upload your solutions of this assignment to Canvas with a file named \"Programming_Assignment_3 _yourname.ipynb\" before 11:59pm June 6."
      ]
    },
    {
      "cell_type": "markdown",
      "metadata": {
        "colab_type": "text",
        "id": "l2ENBj8Nz3kg"
      },
      "source": [
        "================================================================================================================="
      ]
    },
    {
      "cell_type": "markdown",
      "metadata": {
        "colab_type": "text",
        "id": "t8Op_NP5z3kf"
      },
      "source": [
        "### **Problem 1 (6 pt).** Use stochastic gradient descent method to train MNIST with 1 hidden layer neural network model to achieve at least 97% test accuracy. Print the results with the following format:\n",
        "\n",
        "   \"Epoch: i, Training accuracy: $a_i$, Test accuracy: $b_i$\"\n",
        "\n",
        "where $i=1,2,3,...$ means the $i$-th epoch,  $a_i$ and $b_i$ are the training accuracy and test accuracy computed at the end of $i$-th epoch."
      ]
    },
    {
      "cell_type": "code",
      "metadata": {
        "id": "sqJYt83wRyse",
        "colab_type": "code",
        "colab": {}
      },
      "source": [
        "# write your code for solving probelm 1 in this cell\n",
        "import torch\n",
        "import torch.nn as nn \n",
        "import torch.optim as optim\n",
        "import torchvision\n",
        "import torch.nn.functional as F"
      ],
      "execution_count": 0,
      "outputs": []
    },
    {
      "cell_type": "code",
      "metadata": {
        "id": "zL2E9TNPRysi",
        "colab_type": "code",
        "colab": {}
      },
      "source": [
        "class model(nn.Module): \n",
        "    def __init__(self,input_size,hidden_size,num_classes):\n",
        "        super().__init__() \n",
        "        self.fc1 = nn.Linear(input_size, hidden_size) \n",
        "        self.fc2 = nn.Linear(hidden_size, num_classes) \n",
        "    def forward(self, x): \n",
        "        x = x.reshape(x.size(0), input_size) # you can reshape the iamges here. \n",
        "        x = F.relu(self.fc1(x))\n",
        "        x = self.fc2(x)\n",
        "        return x"
      ],
      "execution_count": 0,
      "outputs": []
    },
    {
      "cell_type": "markdown",
      "metadata": {
        "colab_type": "text",
        "id": "hqE-QLtiRysk"
      },
      "source": [
        "================================================================================================================="
      ]
    },
    {
      "cell_type": "code",
      "metadata": {
        "id": "b0QBdvGrRysl",
        "colab_type": "code",
        "colab": {},
        "outputId": "9eadeda3-c106-420f-c3fa-59de93fb8be3"
      },
      "source": [
        "input_size = 784\n",
        "hidden_size = 500\n",
        "num_classes = 10\n",
        "\n",
        "minibatch_size = 128\n",
        "num_epochs = 10\n",
        "lr = 0.1\n",
        "\n",
        "my_model =model(input_size,hidden_size, num_classes)\n",
        "\n",
        "criterion = nn.CrossEntropyLoss()\n",
        "optimizer = optim.SGD(my_model.parameters(), lr=lr)\n",
        "\n",
        "MNIST_transform = torchvision.transforms.Compose([torchvision.transforms.ToTensor()])\n",
        "trainset = torchvision.datasets.MNIST(root='../MNISTdata', train= True, download=False, transform=MNIST_transform)\n",
        "trainloader = torch.utils.data.DataLoader(trainset, batch_size=minibatch_size)\n",
        "testset = torchvision.datasets.MNIST(root='../MNISTdata', train= False, download=False, transform=MNIST_transform)\n",
        "testloader = torch.utils.data.DataLoader(testset, batch_size=1)\n",
        "\n",
        "for epoch in range(num_epochs):\n",
        "    for i, (images, labels) in enumerate(trainloader):\n",
        "\n",
        "        # Forward pass to get the loss\n",
        "        outputs = my_model(images) \n",
        "        loss = criterion(outputs, labels)\n",
        "        \n",
        "        # Backward and compute the gradient\n",
        "        optimizer.zero_grad()\n",
        "        loss.backward()  #backpropragation\n",
        "        optimizer.step() #update the weights/parameters\n",
        "        \n",
        "    # Training accuracy\n",
        "    correct = 0\n",
        "    total = 0\n",
        "    for i, (images, labels) in enumerate(trainloader):\n",
        "        outputs = my_model(images)\n",
        "        p_max, predicted = torch.max(outputs, 1) \n",
        "        total += labels.size(0)\n",
        "        correct += (predicted == labels).sum()\n",
        "    training_accuracy = float(correct)/total\n",
        "\n",
        "    \n",
        "    # Test accuracy\n",
        "    correct = 0\n",
        "    total = 0\n",
        "    for i, (images, labels) in enumerate(testloader):\n",
        "        #images = images.reshape(images.size(0), 28*28) # move this reshape to model class\n",
        "        outputs = my_model(images)\n",
        "        p_max, predicted = torch.max(outputs, 1) \n",
        "        total += labels.size(0)\n",
        "        correct += (predicted == labels).sum()\n",
        "    test_accuracy = float(correct)/total\n",
        "        \n",
        "    print('Epoch: {}, the training accuracy: {}, the test accuracy: {}' .format(epoch+1,training_accuracy,test_accuracy))               \n",
        "\n"
      ],
      "execution_count": 0,
      "outputs": [
        {
          "output_type": "stream",
          "text": [
            "Epoch: 1, the training accuracy: 0.9045, the test accuracy: 0.9112\n",
            "Epoch: 2, the training accuracy: 0.9272666666666667, the test accuracy: 0.929\n",
            "Epoch: 3, the training accuracy: 0.941, the test accuracy: 0.9406\n",
            "Epoch: 4, the training accuracy: 0.9508666666666666, the test accuracy: 0.9475\n",
            "Epoch: 5, the training accuracy: 0.9575666666666667, the test accuracy: 0.9548\n",
            "Epoch: 6, the training accuracy: 0.9630666666666666, the test accuracy: 0.96\n",
            "Epoch: 7, the training accuracy: 0.9672333333333333, the test accuracy: 0.964\n",
            "Epoch: 8, the training accuracy: 0.9705666666666667, the test accuracy: 0.9662\n",
            "Epoch: 9, the training accuracy: 0.9732666666666666, the test accuracy: 0.9688\n",
            "Epoch: 10, the training accuracy: 0.9760333333333333, the test accuracy: 0.9709\n"
          ],
          "name": "stdout"
        }
      ]
    },
    {
      "cell_type": "markdown",
      "metadata": {
        "id": "JviYeOovRysp",
        "colab_type": "text"
      },
      "source": [
        "### **Problem 2 (4 pts).** Use stochastic gradient descent method to train CIFAR-10 with\n",
        "* (1) logistic regression model to achieve at least 25% test accuracy \n",
        "* (2) 2-hidden layers neural network model to achieve at least 50% test accuracy\n",
        "\n",
        "Print the results with the following format:\n",
        "\n",
        "* For logistic regression model, print:\n",
        "\n",
        "    \"Logistic Regression Model, Epoch: i, Training accuracy: $a_i$, Test accuracy: $b_i$\"\n",
        "\n",
        "\n",
        "* For 2-hidden layers neural network model, print:\n",
        "\n",
        "    \"DNN Model, Epoch: i, Training accuracy: $a_i$, Test accuracy: $b_i$\"\n",
        "\n",
        "\n",
        "where $i=1,2,3,...$ means the $i$-th epoch,  $a_i$ and $b_i$ are the training accuracy and test accuracy computed at the end of $i$-th epoch.\n",
        "\n",
        "Hint: \n",
        "\n",
        "(1) The CIFAR-10 dataset consists of 60000 32x32 colour images in 10 classes, with 6000 images per class. There are 50000 training images and 10000 test images.\n",
        "\n",
        "(2) The input_size should be $3072=3*32*32$, where 3 is the number of channels (RGB image), $32*32$ is the size of every image. \n",
        "\n",
        "(3) For the 2-hidden layers neural network model, consider to use $W^1\\in \\mathbb{R}^{3072\\times3072}$ for the 1st-hidden layer, $W^2 \\in \\mathbb{R}^{500\\times 3072}$ for the 2nd-hidden layer and $W^3 \\in \\mathbb{R}^{10\\times 500}$ for the output layer.\n"
      ]
    },
    {
      "cell_type": "code",
      "metadata": {
        "id": "KPW45lUTRysp",
        "colab_type": "code",
        "colab": {}
      },
      "source": [
        "# write your code for solving probelm 2 in this cell\n",
        "\n",
        "# You can load CIFAR-10 dataset as follows:\n",
        "CIFAR10_transform = torchvision.transforms.Compose([torchvision.transforms.ToTensor()])\n",
        "\n",
        "trainset = torchvision.datasets.CIFAR10(root='../CIFAR10data', train=True, download=False, transform=CIFAR10_transform)\n",
        "trainloader = torch.utils.data.DataLoader(trainset, batch_size=128, shuffle=True)\n",
        "\n",
        "testset = torchvision.datasets.CIFAR10(root='../CIFAR10data', train=False, download=False, transform=CIFAR10_transform)\n",
        "testloader = torch.utils.data.DataLoader(testset, batch_size=1, shuffle=False)"
      ],
      "execution_count": 0,
      "outputs": []
    },
    {
      "cell_type": "code",
      "metadata": {
        "id": "Nsi4R7dhRyst",
        "colab_type": "code",
        "colab": {}
      },
      "source": [
        "class DNNmodel(nn.Module): \n",
        "    def __init__(self,input_size,hidden_size,num_classes):\n",
        "        super().__init__() \n",
        "        self.fc1 = nn.Linear(input_size, hidden_size[0]) \n",
        "        self.fc2 = nn.Linear(hidden_size[0], hidden_size[1])\n",
        "        self.fc3 = nn.Linear(hidden_size[1], num_classes)\n",
        "        \n",
        "    def forward(self, x): \n",
        "        x = x.reshape(x.size(0), input_size) # you can reshape the iamges here. \n",
        "        x = F.relu(self.fc1(x))\n",
        "        x = F.relu(self.fc2(x))\n",
        "        x = self.fc3(x)\n",
        "        return x"
      ],
      "execution_count": 0,
      "outputs": []
    },
    {
      "cell_type": "code",
      "metadata": {
        "id": "QwUUUhn3Rysx",
        "colab_type": "code",
        "colab": {},
        "outputId": "3457fe31-4830-480b-eb00-853492f3345e"
      },
      "source": [
        "input_size = 3*32*32\n",
        "hidden_size = [3072, 500]\n",
        "num_classes = 10\n",
        "\n",
        "num_epochs = 20\n",
        "lr = 0.2\n",
        "\n",
        "my_DNN_model =DNNmodel(input_size,hidden_size, num_classes)\n",
        "\n",
        "criterion = nn.CrossEntropyLoss()\n",
        "optimizer = optim.SGD(my_DNN_model.parameters(), lr=lr)\n",
        "\n",
        "for epoch in range(num_epochs):\n",
        "    for i, (images, labels) in enumerate(trainloader):\n",
        "\n",
        "        # Forward pass to get the loss\n",
        "        outputs = my_DNN_model(images) \n",
        "        loss = criterion(outputs, labels)\n",
        "        \n",
        "        # Backward and compute the gradient\n",
        "        optimizer.zero_grad()\n",
        "        loss.backward()  #backpropragation\n",
        "        optimizer.step() #update the weights/parameters\n",
        "        \n",
        "    # Training accuracy\n",
        "    correct = 0\n",
        "    total = 0\n",
        "    for i, (images, labels) in enumerate(trainloader):\n",
        "        outputs = my_DNN_model(images)\n",
        "        p_max, predicted = torch.max(outputs, 1) \n",
        "        total += labels.size(0)\n",
        "        correct += (predicted == labels).sum()\n",
        "    training_accuracy = float(correct)/total\n",
        "\n",
        "    \n",
        "    # Test accuracy\n",
        "    correct = 0\n",
        "    total = 0\n",
        "    for i, (images, labels) in enumerate(testloader):\n",
        "        outputs = my_DNN_model(images)\n",
        "        p_max, predicted = torch.max(outputs, 1) \n",
        "        total += labels.size(0)\n",
        "        correct += (predicted == labels).sum()\n",
        "    test_accuracy = float(correct)/total\n",
        "        \n",
        "    print('Epoch: {}, the training accuracy: {}, the test accuracy: {}' .format(epoch+1,training_accuracy,test_accuracy))               \n",
        "\n",
        "\n"
      ],
      "execution_count": 0,
      "outputs": [
        {
          "output_type": "stream",
          "text": [
            "Epoch: 1, the training accuracy: 0.35666, the test accuracy: 0.3605\n",
            "Epoch: 2, the training accuracy: 0.40808, the test accuracy: 0.4056\n",
            "Epoch: 3, the training accuracy: 0.4241, the test accuracy: 0.4222\n",
            "Epoch: 4, the training accuracy: 0.44418, the test accuracy: 0.435\n",
            "Epoch: 5, the training accuracy: 0.45472, the test accuracy: 0.443\n",
            "Epoch: 6, the training accuracy: 0.41348, the test accuracy: 0.4002\n",
            "Epoch: 7, the training accuracy: 0.4707, the test accuracy: 0.4468\n",
            "Epoch: 8, the training accuracy: 0.4972, the test accuracy: 0.4693\n",
            "Epoch: 9, the training accuracy: 0.52086, the test accuracy: 0.4899\n",
            "Epoch: 10, the training accuracy: 0.51814, the test accuracy: 0.4728\n",
            "Epoch: 11, the training accuracy: 0.53024, the test accuracy: 0.4771\n",
            "Epoch: 12, the training accuracy: 0.50278, the test accuracy: 0.4557\n",
            "Epoch: 13, the training accuracy: 0.5443, the test accuracy: 0.4802\n",
            "Epoch: 14, the training accuracy: 0.59204, the test accuracy: 0.5101\n",
            "Epoch: 15, the training accuracy: 0.55518, the test accuracy: 0.482\n",
            "Epoch: 16, the training accuracy: 0.59374, the test accuracy: 0.5026\n",
            "Epoch: 17, the training accuracy: 0.60924, the test accuracy: 0.5106\n",
            "Epoch: 18, the training accuracy: 0.56408, the test accuracy: 0.4681\n",
            "Epoch: 19, the training accuracy: 0.64794, the test accuracy: 0.5241\n",
            "Epoch: 20, the training accuracy: 0.6393, the test accuracy: 0.5145\n"
          ],
          "name": "stdout"
        }
      ]
    },
    {
      "cell_type": "code",
      "metadata": {
        "id": "ff9WI65cRys1",
        "colab_type": "code",
        "colab": {}
      },
      "source": [
        "class SGDmodel(nn.Module): \n",
        "    def __init__(self,input_size,num_classes):\n",
        "        super().__init__() \n",
        "        self.fc1 = nn.Linear(input_size, num_classes) \n",
        "        \n",
        "    def forward(self, x): \n",
        "        x = x.reshape(x.size(0), input_size) # you can reshape the iamges here. \n",
        "        x = self.fc1(x)\n",
        "        return x"
      ],
      "execution_count": 0,
      "outputs": []
    },
    {
      "cell_type": "code",
      "metadata": {
        "id": "AESKDmscRys3",
        "colab_type": "code",
        "colab": {},
        "outputId": "1cabf7e1-1615-4db5-b375-d4f51118e5e9"
      },
      "source": [
        "input_size = 3*32*32\n",
        "num_classes = 10\n",
        "\n",
        "minibatch_size = 128\n",
        "num_epochs = 20\n",
        "lr = 0.2\n",
        "\n",
        "my_SGD_model = SGDmodel(input_size, num_classes)\n",
        "criterion = nn.CrossEntropyLoss()\n",
        "optimizer = optim.SGD(my_SGD_model.parameters(), lr=lr)\n",
        "\n",
        "CIFAR10_transform = torchvision.transforms.Compose([torchvision.transforms.ToTensor()])\n",
        "trainset = torchvision.datasets.CIFAR10(root='../CIFAR10data', train=True, download=False, transform=CIFAR10_transform)\n",
        "trainloader = torch.utils.data.DataLoader(trainset, batch_size=minibatch_size, shuffle=True)\n",
        "testset = torchvision.datasets.CIFAR10(root='../CIFAR10data', train=False, download=False, transform=CIFAR10_transform)\n",
        "testloader = torch.utils.data.DataLoader(testset, batch_size=1, shuffle=False) \n",
        "\n",
        "\n",
        "for epoch in range(num_epochs):\n",
        "    for i, (images, labels) in enumerate(trainloader):\n",
        "        \n",
        "        # Forward pass to get the loss\n",
        "        outputs = my_SGD_model(images) # the outputs of xW^{T}+b\n",
        "        loss = criterion(outputs, labels) \n",
        "        \n",
        "        # Backward and compute the gradient\n",
        "        optimizer.zero_grad()\n",
        "        loss.backward()  #backpropragation\n",
        "        optimizer.step()\n",
        "        \n",
        "    # Training accuracy\n",
        "    correct = 0\n",
        "    total = 0\n",
        "    for i, (images, labels) in enumerate(trainloader):\n",
        "        outputs = my_SGD_model(images)\n",
        "        p_max, predicted = torch.max(outputs, 1) \n",
        "        total += labels.size(0)\n",
        "        correct += (predicted == labels).sum()\n",
        "    training_accuracy = float(correct)/total\n",
        "\n",
        "    \n",
        "    # Test accuracy\n",
        "    correct = 0\n",
        "    total = 0\n",
        "    for i, (images, labels) in enumerate(testloader):\n",
        "        outputs = my_SGD_model(images)\n",
        "        p_max, predicted = torch.max(outputs, 1) \n",
        "        total += labels.size(0)\n",
        "        correct += (predicted == labels).sum()\n",
        "    test_accuracy = float(correct)/total\n",
        "        \n",
        "    print('Epoch: {}, the training accuracy: {}, the test accuracy: {}' .format(epoch+1,training_accuracy,test_accuracy))               \n",
        "\n",
        "\n"
      ],
      "execution_count": 0,
      "outputs": [
        {
          "output_type": "stream",
          "text": [
            "Epoch: 1, the training accuracy: 0.21192, the test accuracy: 0.2124\n",
            "Epoch: 2, the training accuracy: 0.24036, the test accuracy: 0.2304\n",
            "Epoch: 3, the training accuracy: 0.16854, the test accuracy: 0.1685\n",
            "Epoch: 4, the training accuracy: 0.20158, the test accuracy: 0.1984\n",
            "Epoch: 5, the training accuracy: 0.23876, the test accuracy: 0.2357\n",
            "Epoch: 6, the training accuracy: 0.20998, the test accuracy: 0.2077\n",
            "Epoch: 7, the training accuracy: 0.25052, the test accuracy: 0.2427\n",
            "Epoch: 8, the training accuracy: 0.2059, the test accuracy: 0.1951\n",
            "Epoch: 9, the training accuracy: 0.2292, the test accuracy: 0.22\n",
            "Epoch: 10, the training accuracy: 0.30626, the test accuracy: 0.2928\n",
            "Epoch: 11, the training accuracy: 0.27914, the test accuracy: 0.2651\n",
            "Epoch: 12, the training accuracy: 0.18654, the test accuracy: 0.1843\n",
            "Epoch: 13, the training accuracy: 0.32152, the test accuracy: 0.3159\n",
            "Epoch: 14, the training accuracy: 0.30304, the test accuracy: 0.2889\n"
          ],
          "name": "stdout"
        }
      ]
    },
    {
      "cell_type": "markdown",
      "metadata": {
        "id": "cMWUbCFJRys_",
        "colab_type": "text"
      },
      "source": [
        "================================================================================================================="
      ]
    }
  ]
}